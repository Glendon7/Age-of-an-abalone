{
 "cells": [
  {
   "cell_type": "code",
   "execution_count": 622,
   "metadata": {},
   "outputs": [],
   "source": [
    "import pandas as pd\n",
    "import numpy as np\n",
    "from scipy.stats import f_oneway\n",
    "import statsmodels.formula.api as smf\n",
    "from patsy import dmatrices\n",
    "from statsmodels.stats.outliers_influence import variance_inflation_factor\n",
    "from matplotlib.ticker import MaxNLocator\n",
    "from sklearn import preprocessing\n",
    "from sklearn.linear_model import LinearRegression\n",
    "from sklearn.model_selection import train_test_split\n",
    "from sklearn.metrics import mean_squared_error\n",
    "import seaborn as sns\n",
    "import matplotlib.pyplot as plt\n",
    "import statsmodels.stats.api as sms\n",
    "import statsmodels.api as sm\n",
    "from statsmodels.stats.stattools import durbin_watson\n",
    "from sklearn.cluster import KMeans\n",
    "from scipy import stats\n",
    "from sklearn.preprocessing import StandardScaler\n",
    "from sklearn.decomposition import PCA\n",
    "from sklearn.cluster import AgglomerativeClustering\n",
    "from scipy.cluster.hierarchy import dendrogram, linkage\n",
    "from sklearn.metrics import confusion_matrix, classification_report\n"
   ]
  },
  {
   "cell_type": "code",
   "execution_count": 623,
   "metadata": {},
   "outputs": [
    {
     "name": "stdout",
     "output_type": "stream",
     "text": [
      "  Sex  Length  Diameter  Height  Whole_weight  Shucked_weight  Viscera_weight  \\\n",
      "0   M   0.455     0.365   0.095        0.5140          0.2245          0.1010   \n",
      "1   M   0.350     0.265   0.090        0.2255          0.0995          0.0485   \n",
      "2   F   0.530     0.420   0.135        0.6770          0.2565          0.1415   \n",
      "3   M   0.440     0.365   0.125        0.5160          0.2155          0.1140   \n",
      "4   I   0.330     0.255   0.080        0.2050          0.0895          0.0395   \n",
      "\n",
      "   Shell_weight  Rings  \n",
      "0         0.150     15  \n",
      "1         0.070      7  \n",
      "2         0.210      9  \n",
      "3         0.155     10  \n",
      "4         0.055      7  \n",
      "Sex               0\n",
      "Length            0\n",
      "Diameter          0\n",
      "Height            0\n",
      "Whole_weight      0\n",
      "Shucked_weight    0\n",
      "Viscera_weight    0\n",
      "Shell_weight      0\n",
      "Rings             0\n",
      "dtype: int64\n",
      "Duplicated value= False\n"
     ]
    },
    {
     "data": {
      "text/html": [
       "<div>\n",
       "<style scoped>\n",
       "    .dataframe tbody tr th:only-of-type {\n",
       "        vertical-align: middle;\n",
       "    }\n",
       "\n",
       "    .dataframe tbody tr th {\n",
       "        vertical-align: top;\n",
       "    }\n",
       "\n",
       "    .dataframe thead th {\n",
       "        text-align: right;\n",
       "    }\n",
       "</style>\n",
       "<table border=\"1\" class=\"dataframe\">\n",
       "  <thead>\n",
       "    <tr style=\"text-align: right;\">\n",
       "      <th></th>\n",
       "      <th>Length</th>\n",
       "      <th>Diameter</th>\n",
       "      <th>Height</th>\n",
       "      <th>Whole_weight</th>\n",
       "      <th>Shucked_weight</th>\n",
       "      <th>Viscera_weight</th>\n",
       "      <th>Shell_weight</th>\n",
       "      <th>Rings</th>\n",
       "    </tr>\n",
       "  </thead>\n",
       "  <tbody>\n",
       "    <tr>\n",
       "      <th>count</th>\n",
       "      <td>4177.000000</td>\n",
       "      <td>4177.000000</td>\n",
       "      <td>4177.000000</td>\n",
       "      <td>4177.000000</td>\n",
       "      <td>4177.000000</td>\n",
       "      <td>4177.000000</td>\n",
       "      <td>4177.000000</td>\n",
       "      <td>4177.000000</td>\n",
       "    </tr>\n",
       "    <tr>\n",
       "      <th>mean</th>\n",
       "      <td>0.523992</td>\n",
       "      <td>0.407881</td>\n",
       "      <td>0.139516</td>\n",
       "      <td>0.828742</td>\n",
       "      <td>0.359367</td>\n",
       "      <td>0.180594</td>\n",
       "      <td>0.238831</td>\n",
       "      <td>9.933684</td>\n",
       "    </tr>\n",
       "    <tr>\n",
       "      <th>std</th>\n",
       "      <td>0.120093</td>\n",
       "      <td>0.099240</td>\n",
       "      <td>0.041827</td>\n",
       "      <td>0.490389</td>\n",
       "      <td>0.221963</td>\n",
       "      <td>0.109614</td>\n",
       "      <td>0.139203</td>\n",
       "      <td>3.224169</td>\n",
       "    </tr>\n",
       "    <tr>\n",
       "      <th>min</th>\n",
       "      <td>0.075000</td>\n",
       "      <td>0.055000</td>\n",
       "      <td>0.000000</td>\n",
       "      <td>0.002000</td>\n",
       "      <td>0.001000</td>\n",
       "      <td>0.000500</td>\n",
       "      <td>0.001500</td>\n",
       "      <td>1.000000</td>\n",
       "    </tr>\n",
       "    <tr>\n",
       "      <th>25%</th>\n",
       "      <td>0.450000</td>\n",
       "      <td>0.350000</td>\n",
       "      <td>0.115000</td>\n",
       "      <td>0.441500</td>\n",
       "      <td>0.186000</td>\n",
       "      <td>0.093500</td>\n",
       "      <td>0.130000</td>\n",
       "      <td>8.000000</td>\n",
       "    </tr>\n",
       "    <tr>\n",
       "      <th>50%</th>\n",
       "      <td>0.545000</td>\n",
       "      <td>0.425000</td>\n",
       "      <td>0.140000</td>\n",
       "      <td>0.799500</td>\n",
       "      <td>0.336000</td>\n",
       "      <td>0.171000</td>\n",
       "      <td>0.234000</td>\n",
       "      <td>9.000000</td>\n",
       "    </tr>\n",
       "    <tr>\n",
       "      <th>75%</th>\n",
       "      <td>0.615000</td>\n",
       "      <td>0.480000</td>\n",
       "      <td>0.165000</td>\n",
       "      <td>1.153000</td>\n",
       "      <td>0.502000</td>\n",
       "      <td>0.253000</td>\n",
       "      <td>0.329000</td>\n",
       "      <td>11.000000</td>\n",
       "    </tr>\n",
       "    <tr>\n",
       "      <th>max</th>\n",
       "      <td>0.815000</td>\n",
       "      <td>0.650000</td>\n",
       "      <td>1.130000</td>\n",
       "      <td>2.825500</td>\n",
       "      <td>1.488000</td>\n",
       "      <td>0.760000</td>\n",
       "      <td>1.005000</td>\n",
       "      <td>29.000000</td>\n",
       "    </tr>\n",
       "  </tbody>\n",
       "</table>\n",
       "</div>"
      ],
      "text/plain": [
       "            Length     Diameter       Height  Whole_weight  Shucked_weight  \\\n",
       "count  4177.000000  4177.000000  4177.000000   4177.000000     4177.000000   \n",
       "mean      0.523992     0.407881     0.139516      0.828742        0.359367   \n",
       "std       0.120093     0.099240     0.041827      0.490389        0.221963   \n",
       "min       0.075000     0.055000     0.000000      0.002000        0.001000   \n",
       "25%       0.450000     0.350000     0.115000      0.441500        0.186000   \n",
       "50%       0.545000     0.425000     0.140000      0.799500        0.336000   \n",
       "75%       0.615000     0.480000     0.165000      1.153000        0.502000   \n",
       "max       0.815000     0.650000     1.130000      2.825500        1.488000   \n",
       "\n",
       "       Viscera_weight  Shell_weight        Rings  \n",
       "count     4177.000000   4177.000000  4177.000000  \n",
       "mean         0.180594      0.238831     9.933684  \n",
       "std          0.109614      0.139203     3.224169  \n",
       "min          0.000500      0.001500     1.000000  \n",
       "25%          0.093500      0.130000     8.000000  \n",
       "50%          0.171000      0.234000     9.000000  \n",
       "75%          0.253000      0.329000    11.000000  \n",
       "max          0.760000      1.005000    29.000000  "
      ]
     },
     "execution_count": 623,
     "metadata": {},
     "output_type": "execute_result"
    }
   ],
   "source": [
    "df = pd.read_csv(\"abalone.data\", header=None)\n",
    "df.columns=['Sex','Length','Diameter','Height','Whole_weight','Shucked_weight','Viscera_weight','Shell_weight','Rings']\n",
    "print(df.head())\n",
    "\n",
    "print(df.isna().sum())\n",
    "print(\"Duplicated value=\",df.duplicated().any())\n",
    "df.describe()\n",
    "# By reading the description of the dataset and calculating the weights we know that whole_weight is the sum of shucked_weight, viscera_weight,\n",
    "#shell_weight and the weight of the amount of blood/water loss (but this is just an assumption). \n",
    "## We see an anomaly here. The minimum value of height is 0 which should not be the case. Therefore we should dig deeper to see the reason.\n"
   ]
  },
  {
   "cell_type": "code",
   "execution_count": 624,
   "metadata": {},
   "outputs": [
    {
     "name": "stdout",
     "output_type": "stream",
     "text": [
      "2\n",
      "     Sex  Length  Diameter  Height  Whole_weight  Shucked_weight  \\\n",
      "1257   I   0.430      0.34     0.0         0.428          0.2065   \n",
      "3996   I   0.315      0.23     0.0         0.134          0.0575   \n",
      "\n",
      "      Viscera_weight  Shell_weight  Rings  \n",
      "1257          0.0860        0.1150      8  \n",
      "3996          0.0285        0.3505      6  \n"
     ]
    }
   ],
   "source": [
    "print(df['Height'].value_counts()[0])\n",
    "print(df[df['Height']==0])\n",
    "#Since all other variables seem to have a normal value we can assume that heigh=0 is not a measurement error and might just be a missing value. We will drop \n",
    "#these values\n",
    "df.drop(df[df['Height']==0].index, inplace=True)\n",
    "df.reset_index(drop=True, inplace=True)\n",
    "\n"
   ]
  },
  {
   "cell_type": "code",
   "execution_count": 625,
   "metadata": {},
   "outputs": [
    {
     "name": "stdout",
     "output_type": "stream",
     "text": [
      "M    1528\n",
      "I    1340\n",
      "F    1307\n",
      "Name: Sex, dtype: int64\n"
     ]
    }
   ],
   "source": [
    "print(df.Sex.value_counts())\n",
    "# Looking at the output we see a somewhat even distribution between male, female and infant "
   ]
  },
  {
   "cell_type": "code",
   "execution_count": 626,
   "metadata": {},
   "outputs": [
    {
     "data": {
      "image/png": "[encoded data removed]",
      "text/plain": [
       "<Figure size 640x480 with 1 Axes>"
      ]
     },
     "metadata": {},
     "output_type": "display_data"
    },
    {
     "data": {
      "image/png": "[encoded data removed]",
      "text/plain": [
       "<Figure size 640x480 with 1 Axes>"
      ]
     },
     "metadata": {},
     "output_type": "display_data"
    }
   ],
   "source": [
    "plt.hist(df[\"Length\"])\n",
    "plt.title(\"Length\")\n",
    "plt.xlabel(\"Length\")\n",
    "plt.ylabel(\"Frequency\")\n",
    "plt.show()\n",
    "plt.boxplot(df[\"Length\"])\n",
    "plt.show()\n",
    "\n",
    "# Looking at the histogram we can see that it is left skewed and majority of the abalone in the data have a length between 0.45 to 0.65 \n",
    "# The box plot tells us that outliers exist below 0.2"
   ]
  },
  {
   "cell_type": "code",
   "execution_count": 627,
   "metadata": {},
   "outputs": [
    {
     "data": {
      "text/plain": [
       "F_onewayResult(statistic=498.21337594887035, pvalue=9.389843756680774e-195)"
      ]
     },
     "execution_count": 627,
     "metadata": {},
     "output_type": "execute_result"
    }
   ],
   "source": [
    "#C\n",
    "# H0: mu_m  = mu_f = mu_i\n",
    "# H1: mu_m != mu_f !=mu_i\n",
    "#where mu is the mean number of rings for each category of sex\n",
    "df_m = df[df[\"Sex\"]=='M']\n",
    "df_f = df[df[\"Sex\"]=='F']\n",
    "df_i=df[df['Sex']=='I']\n",
    "\n",
    "f_oneway(df_f[\"Rings\"],df_i[\"Rings\"],df_m[\"Rings\"])\n",
    "\n",
    "# Since the p-value is very small that is less than 0.05. Therefore there is enough evidence to reject H0. Which means that the mean of the \n",
    "# average number of rings for males, females and infants are different. Therefore, the statistical evidence provided by the ANOVA test \n",
    "# supports the idea of keeping the variable \"sex\" as a predictor of the variable \"rings\". The variable \"sex\" appears to have a significant effect \n",
    "# on the number of rings in the data set."
   ]
  },
  {
   "cell_type": "code",
   "execution_count": 628,
   "metadata": {},
   "outputs": [
    {
     "data": {
      "text/plain": [
       "F_onewayResult(statistic=13.49042693356504, pvalue=0.0002442194034404491)"
      ]
     },
     "execution_count": 628,
     "metadata": {},
     "output_type": "execute_result"
    }
   ],
   "source": [
    "# H0: mu_m  = mu_f \n",
    "# H1: mu_m != mu_f \n",
    "# where mu is the mean number of rings for each category of sex\n",
    "df_m = df[df[\"Sex\"]=='M']\n",
    "df_f = df[df[\"Sex\"]=='F']\n",
    "\n",
    "f_oneway(df_m[\"Rings\"],df_f[\"Rings\"])\n",
    "\n",
    "# After removing infant the p-value of 0.000244 suggests that there is a statistically significant difference in the mean number of rings between male and \n",
    "# female samples.Therefore, we can reject the null hypothesis that there is no difference in the mean number of rings between male and female\n",
    "# samples, and conclude that there is a significant difference between the two groups."
   ]
  },
  {
   "attachments": {},
   "cell_type": "markdown",
   "metadata": {},
   "source": [
    "The aim of this study is to predict the variable rings, lets see if there is evidence of multicollinearity?"
   ]
  },
  {
   "cell_type": "code",
   "execution_count": 629,
   "metadata": {},
   "outputs": [
    {
     "data": {
      "text/html": [
       "<div>\n",
       "<style scoped>\n",
       "    .dataframe tbody tr th:only-of-type {\n",
       "        vertical-align: middle;\n",
       "    }\n",
       "\n",
       "    .dataframe tbody tr th {\n",
       "        vertical-align: top;\n",
       "    }\n",
       "\n",
       "    .dataframe thead th {\n",
       "        text-align: right;\n",
       "    }\n",
       "</style>\n",
       "<table border=\"1\" class=\"dataframe\">\n",
       "  <thead>\n",
       "    <tr style=\"text-align: right;\">\n",
       "      <th></th>\n",
       "      <th>VIF Factor</th>\n",
       "      <th>Feature</th>\n",
       "    </tr>\n",
       "  </thead>\n",
       "  <tbody>\n",
       "    <tr>\n",
       "      <th>0</th>\n",
       "      <td>73.94</td>\n",
       "      <td>Intercept</td>\n",
       "    </tr>\n",
       "    <tr>\n",
       "      <th>1</th>\n",
       "      <td>1.98</td>\n",
       "      <td>C(Sex)[T.I]</td>\n",
       "    </tr>\n",
       "    <tr>\n",
       "      <th>2</th>\n",
       "      <td>1.40</td>\n",
       "      <td>C(Sex)[T.M]</td>\n",
       "    </tr>\n",
       "    <tr>\n",
       "      <th>3</th>\n",
       "      <td>40.91</td>\n",
       "      <td>Length</td>\n",
       "    </tr>\n",
       "    <tr>\n",
       "      <th>4</th>\n",
       "      <td>42.38</td>\n",
       "      <td>Diameter</td>\n",
       "    </tr>\n",
       "    <tr>\n",
       "      <th>5</th>\n",
       "      <td>3.60</td>\n",
       "      <td>Height</td>\n",
       "    </tr>\n",
       "    <tr>\n",
       "      <th>6</th>\n",
       "      <td>111.40</td>\n",
       "      <td>Whole_weight</td>\n",
       "    </tr>\n",
       "    <tr>\n",
       "      <th>7</th>\n",
       "      <td>28.81</td>\n",
       "      <td>Shucked_weight</td>\n",
       "    </tr>\n",
       "    <tr>\n",
       "      <th>8</th>\n",
       "      <td>17.49</td>\n",
       "      <td>Viscera_weight</td>\n",
       "    </tr>\n",
       "    <tr>\n",
       "      <th>9</th>\n",
       "      <td>21.85</td>\n",
       "      <td>Shell_weight</td>\n",
       "    </tr>\n",
       "  </tbody>\n",
       "</table>\n",
       "</div>"
      ],
      "text/plain": [
       "   VIF Factor         Feature\n",
       "0       73.94       Intercept\n",
       "1        1.98     C(Sex)[T.I]\n",
       "2        1.40     C(Sex)[T.M]\n",
       "3       40.91          Length\n",
       "4       42.38        Diameter\n",
       "5        3.60          Height\n",
       "6      111.40    Whole_weight\n",
       "7       28.81  Shucked_weight\n",
       "8       17.49  Viscera_weight\n",
       "9       21.85    Shell_weight"
      ]
     },
     "execution_count": 629,
     "metadata": {},
     "output_type": "execute_result"
    }
   ],
   "source": [
    "\n",
    "y, X = dmatrices(\"Rings ~ C(Sex) + Length + Diameter + Height + Whole_weight + Shucked_weight + Viscera_weight + Shell_weight\",df, return_type=\"dataframe\")\n",
    "\n",
    "vif = pd.DataFrame()\n",
    "from statsmodels.stats.outliers_influence import variance_inflation_factor\n",
    "vif[\"VIF Factor\"]=[variance_inflation_factor(X.values,i) for i in range(X.shape[1])]\n",
    "vif[\"Feature\"] = X.columns\n",
    "vif.round(2)\n",
    "\n",
    "#After performing a VIF we see that all variables except 'Sex' and 'Height' have multicollinearity issue and out of all of them 'whole_weight' has the highest \n",
    "#VIF value of 111.40. "
   ]
  },
  {
   "cell_type": "code",
   "execution_count": 630,
   "metadata": {},
   "outputs": [
    {
     "data": {
      "image/png": "[encoded data removed]",
      "text/plain": [
       "<Figure size 640x480 with 2 Axes>"
      ]
     },
     "metadata": {},
     "output_type": "display_data"
    }
   ],
   "source": [
    "Xc = df[['Length','Diameter','Height','Whole_weight','Shucked_weight','Viscera_weight','Shell_weight']]\n",
    "correlation_mat = Xc.corr()\n",
    "sns.heatmap(correlation_mat, annot = True)\n",
    "plt.show()\n",
    "# Even the heat map shows us that most of the most of variables are highly correlated with eachother. We also observe very high correlation\n",
    "# between Length and Diameter \n",
    "# We also see that the Whole_weight variable is highly correlated to other weight variables"
   ]
  },
  {
   "attachments": {},
   "cell_type": "markdown",
   "metadata": {},
   "source": [
    " Fitting a linear model with the original variables, i.e., without any transformation on the predictors."
   ]
  },
  {
   "cell_type": "code",
   "execution_count": 631,
   "metadata": {},
   "outputs": [
    {
     "name": "stdout",
     "output_type": "stream",
     "text": [
      "                            OLS Regression Results                            \n",
      "==============================================================================\n",
      "Dep. Variable:                  Rings   R-squared:                       0.538\n",
      "Model:                            OLS   Adj. R-squared:                  0.537\n",
      "Method:                 Least Squares   F-statistic:                     538.6\n",
      "Date:                Sun, 16 Apr 2023   Prob (F-statistic):               0.00\n",
      "Time:                        23:52:53   Log-Likelihood:                -9199.9\n",
      "No. Observations:                4175   AIC:                         1.842e+04\n",
      "Df Residuals:                    4165   BIC:                         1.848e+04\n",
      "Df Model:                           9                                         \n",
      "Covariance Type:            nonrobust                                         \n",
      "==================================================================================\n",
      "                     coef    std err          t      P>|t|      [0.025      0.975]\n",
      "----------------------------------------------------------------------------------\n",
      "Intercept          3.9086      0.292     13.386      0.000       3.336       4.481\n",
      "C(Sex)[T.I]       -0.8255      0.102     -8.061      0.000      -1.026      -0.625\n",
      "C(Sex)[T.M]        0.0576      0.083      0.691      0.490      -0.106       0.221\n",
      "Length            -0.4343      1.809     -0.240      0.810      -3.982       3.113\n",
      "Diameter          10.9967      2.228      4.935      0.000       6.628      15.365\n",
      "Height            10.7220      1.545      6.940      0.000       7.693      13.751\n",
      "Whole_weight       8.8783      0.731     12.145      0.000       7.445      10.312\n",
      "Shucked_weight   -19.7011      0.821    -23.987      0.000     -21.311     -18.091\n",
      "Viscera_weight   -10.5048      1.296     -8.106      0.000     -13.045      -7.964\n",
      "Shell_weight       8.9392      1.140      7.838      0.000       6.703      11.175\n",
      "==============================================================================\n",
      "Omnibus:                      946.910   Durbin-Watson:                   1.436\n",
      "Prob(Omnibus):                  0.000   Jarque-Bera (JB):             2710.783\n",
      "Skew:                           1.181   Prob(JB):                         0.00\n",
      "Kurtosis:                       6.163   Cond. No.                         137.\n",
      "==============================================================================\n",
      "\n",
      "Notes:\n",
      "[1] Standard Errors assume that the covariance matrix of the errors is correctly specified.\n"
     ]
    }
   ],
   "source": [
    "mod     = smf.ols(\"Rings ~ C(Sex) + Length + Diameter + Height + Whole_weight + Shucked_weight + Viscera_weight + Shell_weight\", data = df)\n",
    "mod_res = mod.fit()\n",
    "print(mod_res.summary())\n",
    "\n",
    "#The r-squared and adj R-squared value are very close to each other that means it is a very well fitted model which means we have selected\n",
    "# relevant features. The R-squared value of 0.538 tells us that 53.8% of the variation in Rings can be explained by the independent variables\n",
    "# We also notice that the p value of Length is 0.810 which is greater than 0.05 we therefore fail to reject the null hypothesis and we could drop it."
   ]
  },
  {
   "attachments": {},
   "cell_type": "markdown",
   "metadata": {},
   "source": [
    "Using principal components to transform the predictors and fit a linear regression model to check how good the model is as compared to the model fitted with original variables."
   ]
  },
  {
   "cell_type": "code",
   "execution_count": 632,
   "metadata": {},
   "outputs": [
    {
     "name": "stdout",
     "output_type": "stream",
     "text": [
      "[0.90818717 0.03977698 0.02390727 0.01613681 0.00923717 0.00181875\n",
      " 0.00093585]\n",
      "Var explained by PCs:  [0.90818717 0.94796414 0.97187142 0.98800823 0.99724539 0.99906415\n",
      " 1.        ]\n"
     ]
    }
   ],
   "source": [
    "scaler = StandardScaler()\n",
    "fitted = scaler.fit(Xc)\n",
    "x      = fitted.transform(Xc) \n",
    "\n",
    "pca = PCA(n_components=Xc.shape[1])\n",
    "pca_fit=pca.fit(x)\n",
    "principalComponents = pca_fit.transform(x)\n",
    "print(pca.explained_variance_ratio_) # % variability explained by the component\n",
    "print(\"Var explained by PCs: \", np.cumsum(pca.explained_variance_ratio_))\n",
    "PCs = pd.DataFrame(data = principalComponents, columns = ['PC1', 'PC2', 'PC3', 'PC4', 'PC5', 'PC6','PC7'])\n",
    "# print(pca.components_); # to see composition of PCs\n",
    "\n",
    "DF = pd.concat([df, PCs], axis = 1)\n"
   ]
  },
  {
   "cell_type": "code",
   "execution_count": 633,
   "metadata": {},
   "outputs": [
    {
     "name": "stdout",
     "output_type": "stream",
     "text": [
      "                            OLS Regression Results                            \n",
      "==============================================================================\n",
      "Dep. Variable:                  Rings   R-squared:                       0.538\n",
      "Model:                            OLS   Adj. R-squared:                  0.537\n",
      "Method:                 Least Squares   F-statistic:                     538.6\n",
      "Date:                Sun, 16 Apr 2023   Prob (F-statistic):               0.00\n",
      "Time:                        23:52:53   Log-Likelihood:                -9199.9\n",
      "No. Observations:                4175   AIC:                         1.842e+04\n",
      "Df Residuals:                    4165   BIC:                         1.848e+04\n",
      "Df Model:                           9                                         \n",
      "Covariance Type:            nonrobust                                         \n",
      "===============================================================================\n",
      "                  coef    std err          t      P>|t|      [0.025      0.975]\n",
      "-------------------------------------------------------------------------------\n",
      "Intercept      10.1790      0.064    158.291      0.000      10.053      10.305\n",
      "C(Sex)[T.I]    -0.8255      0.102     -8.061      0.000      -1.026      -0.625\n",
      "C(Sex)[T.M]     0.0576      0.083      0.691      0.490      -0.106       0.221\n",
      "PC1             0.6339      0.017     38.365      0.000       0.602       0.666\n",
      "PC2             1.1983      0.065     18.569      0.000       1.072       1.325\n",
      "PC3            -0.5843      0.083     -7.035      0.000      -0.747      -0.421\n",
      "PC4            -3.5314      0.101    -34.896      0.000      -3.730      -3.333\n",
      "PC5            -0.7231      0.134     -5.379      0.000      -0.987      -0.460\n",
      "PC6             0.7278      0.302      2.408      0.016       0.135       1.320\n",
      "PC7            -5.1603      0.420    -12.291      0.000      -5.983      -4.337\n",
      "==============================================================================\n",
      "Omnibus:                      946.910   Durbin-Watson:                   1.436\n",
      "Prob(Omnibus):                  0.000   Jarque-Bera (JB):             2710.783\n",
      "Skew:                           1.181   Prob(JB):                         0.00\n",
      "Kurtosis:                       6.163   Cond. No.                         31.4\n",
      "==============================================================================\n",
      "\n",
      "Notes:\n",
      "[1] Standard Errors assume that the covariance matrix of the errors is correctly specified.\n"
     ]
    }
   ],
   "source": [
    "mod     = smf.ols(\"Rings ~ C(Sex)+ PC1 + PC2 + PC3 + PC4 + PC5 + PC6 +PC7\", data = DF)\n",
    "mod_res = mod.fit()\n",
    "print(mod_res.summary())\n",
    "# When we use all the PCs to fit the model we solve the issue of multicolinearity and the r-squared, adj r-sq, AIC, BIC values are the same\n",
    "# but since 4 PCs explain 98% of the variability we can therefore use 4 PCs"
   ]
  },
  {
   "cell_type": "code",
   "execution_count": 634,
   "metadata": {},
   "outputs": [
    {
     "name": "stdout",
     "output_type": "stream",
     "text": [
      "                            OLS Regression Results                            \n",
      "==============================================================================\n",
      "Dep. Variable:                  Rings   R-squared:                       0.517\n",
      "Model:                            OLS   Adj. R-squared:                  0.517\n",
      "Method:                 Least Squares   F-statistic:                     744.6\n",
      "Date:                Sun, 16 Apr 2023   Prob (F-statistic):               0.00\n",
      "Time:                        23:52:53   Log-Likelihood:                -9290.6\n",
      "No. Observations:                4175   AIC:                         1.860e+04\n",
      "Df Residuals:                    4168   BIC:                         1.864e+04\n",
      "Df Model:                           6                                         \n",
      "Covariance Type:            nonrobust                                         \n",
      "===============================================================================\n",
      "                  coef    std err          t      P>|t|      [0.025      0.975]\n",
      "-------------------------------------------------------------------------------\n",
      "Intercept      10.2367      0.065    156.754      0.000      10.109      10.365\n",
      "C(Sex)[T.I]    -0.9504      0.104     -9.182      0.000      -1.153      -0.747\n",
      "C(Sex)[T.M]     0.0094      0.085      0.111      0.912      -0.157       0.176\n",
      "PC1             0.6230      0.017     37.022      0.000       0.590       0.656\n",
      "PC2             1.1927      0.066     18.093      0.000       1.063       1.322\n",
      "PC3            -0.5813      0.085     -6.851      0.000      -0.748      -0.415\n",
      "PC4            -3.5253      0.103    -34.101      0.000      -3.728      -3.323\n",
      "==============================================================================\n",
      "Omnibus:                     1050.938   Durbin-Watson:                   1.393\n",
      "Prob(Omnibus):                  0.000   Jarque-Bera (JB):             3356.108\n",
      "Skew:                           1.268   Prob(JB):                         0.00\n",
      "Kurtosis:                       6.587   Cond. No.                         9.53\n",
      "==============================================================================\n",
      "\n",
      "Notes:\n",
      "[1] Standard Errors assume that the covariance matrix of the errors is correctly specified.\n"
     ]
    }
   ],
   "source": [
    "mod     = smf.ols(\"Rings ~ C(Sex)+ PC1 + PC2 + PC3 + PC4\", data = DF)\n",
    "mod_res = mod.fit()\n",
    "print(mod_res.summary())\n",
    "\n",
    "# After using 4 PCs we see that the R-squared, and adj r-squared values decrease to 51.7% while the AIC and BIC values increase which means that the \n",
    "# 1st model will perform better "
   ]
  },
  {
   "cell_type": "code",
   "execution_count": 635,
   "metadata": {},
   "outputs": [
    {
     "name": "stdout",
     "output_type": "stream",
     "text": [
      "0    10.277857\n",
      "dtype: float64\n"
     ]
    }
   ],
   "source": [
    "\n",
    "pred =pd.DataFrame( {\"Sex\":['M'], \"Length\": [0.52], \"Diameter\": [0.41],\"Height\":[0.14],\"Whole_weight\":[0.83],\"Shucked_weight\":[0.36],\"Viscera_weight\":[0.18],\"Shell_weight\":[0.24]})\n",
    "con_pred = pred.iloc[:,1:]\n",
    "\n",
    "pred_std=fitted.transform(con_pred) \n",
    "\n",
    "principalComponents = pca_fit.transform(pred_std)\n",
    "PCs = pd.DataFrame(data = principalComponents, columns = ['PC1', 'PC2', 'PC3', 'PC4', 'PC5', 'PC6', 'PC7'])\n",
    "\n",
    "DF = pd.concat([pred['Sex'], PCs], axis = 1)\n",
    "#print(DF)\n",
    "y=mod_res.predict(DF)\n",
    "print(y)\n",
    "\n",
    "#The model predicts the ring value of the abalone as 10.27 which means that the approximate age of the abalone given the above values would be \n",
    "# 10.27 + 1.5 which is 11.77 "
   ]
  },
  {
   "attachments": {},
   "cell_type": "markdown",
   "metadata": {},
   "source": [
    "Lets see if it is possible to predict the gender (just Female or Male) of an abalone given the continuous\n",
    "predictors"
   ]
  },
  {
   "cell_type": "code",
   "execution_count": 636,
   "metadata": {},
   "outputs": [
    {
     "name": "stdout",
     "output_type": "stream",
     "text": [
      "M    1528\n",
      "F    1307\n",
      "Name: Sex, dtype: int64\n",
      "Percentage of Ms: 53.89770723104056\n",
      "Percentage of Fs: 46.10229276895944\n"
     ]
    }
   ],
   "source": [
    "newdf=df[df['Sex'] != 'I']\n",
    "# print(newdf)\n",
    "# newdf['Sex'].replace({'M': 0, 'F': 1}, inplace=True)\n",
    "# newdf.Sex.value_counts()\n",
    "X2 = newdf.iloc[:, 1:]\n",
    "y2 = newdf[['Sex']]\n",
    "print(newdf.Sex.value_counts())\n",
    "response_count = newdf.groupby(\"Sex\")[\"Sex\"].count()\n",
    "\n",
    "print(\"Percentage of Ms:\", 100*response_count['M']/np.sum(response_count))\n",
    "print(\"Percentage of Fs:\", 100*response_count['F']/np.sum(response_count))\n",
    "\n",
    "# Since there is not a massive difference between the distribution of males and females in the dataset therefore we don't need to balance our data \n",
    "# as it is fairly balanced "
   ]
  },
  {
   "cell_type": "code",
   "execution_count": 637,
   "metadata": {},
   "outputs": [
    {
     "name": "stdout",
     "output_type": "stream",
     "text": [
      "                     Generalized Linear Model Regression Results                      \n",
      "======================================================================================\n",
      "Dep. Variable:     ['C(Sex)[F]', 'C(Sex)[M]']   No. Observations:                 1984\n",
      "Model:                                    GLM   Df Residuals:                     1975\n",
      "Model Family:                        Binomial   Df Model:                            8\n",
      "Link Function:                          Logit   Scale:                          1.0000\n",
      "Method:                                  IRLS   Log-Likelihood:                -1331.3\n",
      "Date:                        Sun, 16 Apr 2023   Deviance:                       2662.7\n",
      "Time:                                23:52:53   Pearson chi2:                 1.98e+03\n",
      "No. Iterations:                             4   Pseudo R-squ. (CS):            0.03654\n",
      "Covariance Type:                    nonrobust                                         \n",
      "==================================================================================\n",
      "                     coef    std err          z      P>|z|      [0.025      0.975]\n",
      "----------------------------------------------------------------------------------\n",
      "Intercept         -3.4395      0.572     -6.009      0.000      -4.561      -2.318\n",
      "Length             0.2697      2.485      0.109      0.914      -4.601       5.141\n",
      "Diameter           7.6451      2.910      2.627      0.009       1.941      13.350\n",
      "Height             6.1410      2.916      2.106      0.035       0.426      11.856\n",
      "Whole_weight       0.8169      0.934      0.874      0.382      -1.015       2.648\n",
      "Shucked_weight    -3.9706      1.112     -3.571      0.000      -6.150      -1.791\n",
      "Viscera_weight     1.3897      1.556      0.893      0.372      -1.659       4.439\n",
      "Shell_weight      -2.2319      1.435     -1.555      0.120      -5.045       0.581\n",
      "Rings              0.0002      0.019      0.012      0.990      -0.038       0.038\n",
      "==================================================================================\n",
      "2736.5026487457912\n",
      "2662.654641754011\n",
      "Confusion matrix:\n",
      "  [[146 252]\n",
      " [145 308]]\n",
      "Acuraccy:  0.533\n",
      "Sensitivity:  0.68\n",
      "Specificity:  0.367\n",
      "              precision    recall  f1-score   support\n",
      "\n",
      "           F      0.502     0.367     0.424       398\n",
      "           M      0.550     0.680     0.608       453\n",
      "\n",
      "    accuracy                          0.533       851\n",
      "   macro avg      0.526     0.523     0.516       851\n",
      "weighted avg      0.527     0.533     0.522       851\n",
      "\n"
     ]
    }
   ],
   "source": [
    "X_train, X_test, y_train, y_test = train_test_split(X2, y2, test_size=0.3, random_state=0)\n",
    "\n",
    "\n",
    "data_train = pd.concat([X_train, y_train], axis = 1)\n",
    "mod     = sm.GLM.from_formula(\" C(Sex) ~  Length + Diameter + Height + Whole_weight + Shucked_weight + Viscera_weight + Shell_weight + Rings\", family = sm.families.Binomial(), data = data_train)\n",
    "result = mod.fit()\n",
    "print(result.summary())\n",
    "\n",
    "print(result.null_deviance)\n",
    "# The residual deviance shows how well the response is predicted by the model when the predictors are included.\n",
    "print(result.deviance)\n",
    "\n",
    "predictions = result.predict(X_test)\n",
    "#print(predictions)\n",
    "predictions_nominal = [ 'M' if x < 0.5 else 'F' for x in predictions]\n",
    "#print(predictions_nominal)\n",
    "\n",
    "cm = confusion_matrix(y_test, predictions_nominal)\n",
    "print(\"Confusion matrix:\\n \", cm)\n",
    "#The diagonal elements of the confusion matrix indicate correct predictions,while the off-diagonals represent incorrect predictions\n",
    "\n",
    "# Accuracy= 0.533 : Which states that the model is able to correctly predict the gender 53% of the time\n",
    "print(\"Acuraccy: \", round(np.sum(np.diagonal(cm))/np.sum(cm),3))\n",
    "\n",
    "# Sensitivity: 0.68 : The sensitivity of 0.68 means that the model is able to correctly identify 68% of the female abalones in the testing set\n",
    "print(\"Sensitivity: \", round(cm[1,1]/np.sum(cm[1,:]),3))\n",
    "\n",
    "# Specificity: 0.367 : The specificity of 0.367 means that the model is able to correctly identify 36.7% of the male abalones in the testing set.\n",
    "print(\"Specificity: \", round(cm[0,0]/np.sum(cm[0,:]),3))\n",
    "\n",
    "\n",
    "print(classification_report(y_test, \n",
    "                            predictions_nominal, \n",
    "                            digits = 3))\n",
    "\n",
    "\n"
   ]
  },
  {
   "attachments": {},
   "cell_type": "markdown",
   "metadata": {},
   "source": [
    "# Conclusion:\n",
    "\n",
    "The results suggest that the model is not very effective at predicting the gender of abalone. Since the accuracy is only 53.3% it is just slightly better than random guessing, and the sensitivity and specificity are both relatively low. Therefore, it is not recommended to  use this model to predict the gender of abalones.\n",
    " \n",
    "\n",
    "\n",
    "\n"
   ]
  }
 ],
 "metadata": {
  "kernelspec": {
   "display_name": "Python 3",
   "language": "python",
   "name": "python3"
  },
  "language_info": {
   "codemirror_mode": {
    "name": "ipython",
    "version": 3
   },
   "file_extension": ".py",
   "mimetype": "text/x-python",
   "name": "python",
   "nbconvert_exporter": "python",
   "pygments_lexer": "ipython3",
   "version": "3.11.2"
  },
  "orig_nbformat": 4
 },
 "nbformat": 4,
 "nbformat_minor": 2
}
